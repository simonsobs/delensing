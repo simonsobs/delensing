{
 "cells": [
  {
   "cell_type": "code",
   "execution_count": 1,
   "metadata": {},
   "outputs": [],
   "source": [
    "import numpy as np, basic, prjlib, plottools as pl\n",
    "from matplotlib.pyplot import *"
   ]
  },
  {
   "cell_type": "code",
   "execution_count": 2,
   "metadata": {},
   "outputs": [],
   "source": [
    "Tcmb = 2.72e6\n",
    "ntype = 'base_roll50'"
   ]
  },
  {
   "cell_type": "code",
   "execution_count": 3,
   "metadata": {},
   "outputs": [
    {
     "name": "stdout",
     "output_type": "stream",
     "text": [
      "loading from /project/projectdirs/sobs/delensing/cmbsims/aps/sa93_base_roll50_mv3_a5.0deg_none_o.dat\n",
      "loading from /project/projectdirs/sobs/delensing/cmbsims/aps/sa145_base_roll50_mv3_a5.0deg_none_o.dat\n",
      "loading from /project/projectdirs/sobs/delensing/cmbsims/aps/sa225_base_roll50_mv3_a5.0deg_none_o.dat\n",
      "loading from /project/projectdirs/sobs/delensing/cmbsims/aps/sacom_base_roll50_mv3_a5.0deg_none_o.dat\n",
      "loading from /project/projectdirs/sobs/delensing/cmbsims/aps/la93_base_roll50_mv3_a5.0deg_none_o.dat\n",
      "loading from /project/projectdirs/sobs/delensing/cmbsims/aps/la145_base_roll50_mv3_a5.0deg_none_o.dat\n",
      "loading from /project/projectdirs/sobs/delensing/cmbsims/aps/la225_base_roll50_mv3_a5.0deg_none_o.dat\n",
      "loading from /project/projectdirs/sobs/delensing/cmbsims/aps/lacom_base_roll50_mv3_a5.0deg_none_o.dat\n"
     ]
    }
   ],
   "source": [
    "p = {}\n",
    "TT, EE, BB, TN, EN, BN = {}, {}, {}, {}, {}, {}\n",
    "for t, lmax in [('sa',2048),('la',4096)]:\n",
    "    for nu in ['93','145','225','com']:\n",
    "        p[t+nu] = prjlib.analysis_init(t=t,freq=nu,ntype=ntype)\n",
    "        print('loading from',p[t+nu].fcmb.scl['o'])\n",
    "        l, TT[t+nu], EE[t+nu], BB[t+nu] = np.loadtxt(p[t+nu].fcmb.scl['s'],unpack=True,usecols=(0,1,2,3))[:,:lmax+1]\n",
    "        l, TN[t+nu], EN[t+nu], BN[t+nu] = np.loadtxt(p[t+nu].fcmb.scl['n'],unpack=True,usecols=(0,1,2,3))[:,:lmax+1]\n",
    "pid = prjlib.analysis_init(t='id',ntype='cv')\n",
    "l, TT['id'], EE['id'], BB['id'] = np.loadtxt(pid.fcmb.scl['o'],unpack=True,usecols=(0,1,2,3))[:,:lmax+1]\n",
    "L = np.linspace(0,2048,2049)\n",
    "s = l*(l+1.)*Tcmb**2/2./np.pi\n",
    "lTT = p['lacom'].lTT"
   ]
  },
  {
   "cell_type": "code",
   "execution_count": 4,
   "metadata": {},
   "outputs": [
    {
     "name": "stdout",
     "output_type": "stream",
     "text": [
      "la 93\n",
      "la 145\n",
      "la 225\n"
     ]
    }
   ],
   "source": [
    "inl = prjlib.inv_nltt(['93','145','225'],lmax,roll=50,year=3.*3.2e7)"
   ]
  },
  {
   "cell_type": "code",
   "execution_count": 8,
   "metadata": {},
   "outputs": [
    {
     "name": "stderr",
     "output_type": "stream",
     "text": [
      "/global/homes/t/toshiyan/.conda/envs/loc/lib/python3.7/site-packages/ipykernel_launcher.py:2: RuntimeWarning: divide by zero encountered in true_divide\n",
      "  \n"
     ]
    },
    {
     "data": {
      "text/plain": [
       "[<matplotlib.lines.Line2D at 0x2aaae7364f60>]"
      ]
     },
     "execution_count": 8,
     "metadata": {},
     "output_type": "execute_result"
    },
    {
     "data": {
      "image/png": "[encoded data removed]",
      "text/plain": [
       "<Figure size 432x288 with 1 Axes>"
      ]
     },
     "metadata": {
      "needs_background": "light"
     },
     "output_type": "display_data"
    }
   ],
   "source": [
    "yscale(\"log\")\n",
    "plot(1./TN[\"la225\"])\n",
    "plot(inl[0,2,:])"
   ]
  },
  {
   "cell_type": "code",
   "execution_count": null,
   "metadata": {},
   "outputs": [],
   "source": []
  }
 ],
 "metadata": {
  "kernelspec": {
   "display_name": "py4so",
   "language": "python",
   "name": "py4so"
  },
  "language_info": {
   "codemirror_mode": {
    "name": "ipython",
    "version": 3
   },
   "file_extension": ".py",
   "mimetype": "text/x-python",
   "name": "python",
   "nbconvert_exporter": "python",
   "pygments_lexer": "ipython3",
   "version": "3.7.2"
  }
 },
 "nbformat": 4,
 "nbformat_minor": 4
}
