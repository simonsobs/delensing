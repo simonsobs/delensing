{
 "cells": [
  {
   "cell_type": "code",
   "execution_count": 1,
   "metadata": {},
   "outputs": [],
   "source": [
    "import numpy as np, healpy as hp, pickle\n",
    "from matplotlib.pyplot import *\n",
    "# from cmblensplus\n",
    "import curvedsky, constants, cmb, misctools, quad_func, plottools as pl\n",
    "# local\n",
    "import prjlib"
   ]
  },
  {
   "cell_type": "code",
   "execution_count": 2,
   "metadata": {},
   "outputs": [],
   "source": [
    "def genalm(rlz,film,lmax,nside,bl,nl,W,folm,fnlm,simtype,ow=False):\n",
    "    for i in rlz:\n",
    "        misctools.progress(i,rlz)\n",
    "        if misctools.check_path(folm[i],overwrite=ow): continue\n",
    "        Tilm = pickle.load(open(film[i],\"rb\"))[:lmax+1,:lmax+1]\n",
    "        if simtype == 'bla':\n",
    "            nalm = 0.*Tilm\n",
    "        else:\n",
    "            nalm = curvedsky.utils.gauss1alm(lmax,nl)\n",
    "        Tolm = curvedsky.utils.mulwin(nside,lmax,lmax,Tilm*bl[:,None]+nalm,W) / bl[:,None]\n",
    "        pickle.dump((Tolm),open(folm[i],\"wb\"),protocol=pickle.HIGHEST_PROTOCOL)\n",
    "        pickle.dump((nalm),open(fnlm[i],\"wb\"),protocol=pickle.HIGHEST_PROTOCOL)"
   ]
  },
  {
   "cell_type": "code",
   "execution_count": 3,
   "metadata": {},
   "outputs": [],
   "source": [
    "def cninv(rlz,film,fnlm,lmax,nside,bl,lcl,M,W,fwlm,ow=False,itns=[1000],eps=['1e-5'],stat='test.dat'):\n",
    "    npix = 12*nside**2\n",
    "    for i in rlz:\n",
    "        misctools.progress(i,rlz)\n",
    "        if misctools.check_path(fwlm[i],overwrite=ow): continue\n",
    "        Tilm = pickle.load(open(film[i],\"rb\"))[:lmax+1,:lmax+1] \n",
    "        nalm = pickle.load(open(fnlm[i],\"rb\"))[:lmax+1,:lmax+1] \n",
    "        Tdat = np.reshape( M * curvedsky.utils.hp_alm2map(nside,lmax,lmax,Tilm*bl[:,None]+nalm) , (1,1,npix) )\n",
    "        Nij  = np.reshape( W * (sigma*(np.pi/10800.)/Tcmb)**(-2) , (1,1,npix) )\n",
    "        Twlm = curvedsky.cninv.cnfilter_freq(1,1,npix,lmax,lcl[0:1,:lmax+1],np.reshape(bl,(1,lmax+1)),Nij,Tdat,1,itns=itns,eps=eps,filter='W',ro=1,stat=stat)\n",
    "        pickle.dump((Twlm),open(fwlm[i],\"wb\"),protocol=pickle.HIGHEST_PROTOCOL)"
   ]
  },
  {
   "cell_type": "code",
   "execution_count": 19,
   "metadata": {},
   "outputs": [],
   "source": [
    "def comp_cmbcls(rlz,lmax,wn,film,folm,fcl):\n",
    "    cl = np.zeros((2,len(rlz),lmax+1))\n",
    "    for i in rlz:\n",
    "        Tolm = pickle.load(open(folm[i],\"rb\"))[:lmax+1,:lmax+1]\n",
    "        Tilm = pickle.load(open(film[i],\"rb\"))[:lmax+1,:lmax+1] \n",
    "        ii = i - np.min(rlz)\n",
    "        cl[0,ii,:] = curvedsky.utils.alm2cl(lmax,Tolm)/wn[2]\n",
    "        cl[1,ii,:] = curvedsky.utils.alm2cl(lmax,Tolm,Tilm)/wn[1]\n",
    "    l = np.linspace(0,lmax,lmax+1)\n",
    "    np.savetxt(fcl,np.concatenate((l[None,:],np.mean(cl,axis=1))).T)"
   ]
  },
  {
   "cell_type": "code",
   "execution_count": 5,
   "metadata": {},
   "outputs": [],
   "source": [
    "def plot_cmbcls(fctt,lcl,nlbl,method):\n",
    "    l, Too, Toi = np.loadtxt(fctt,unpack=True)\n",
    "    pl.plot_1dstyle(ylog=True,ymin=1e-11,ymax=1e-8,ylab='$L^2C_L^{TT}$')\n",
    "    yscale('log')\n",
    "    plot(l**2*Too,label='obs')\n",
    "    plot(l**2*Toi,label='cross',lw=2)\n",
    "    plot(l**2*lcl[0,:],label='input',color='k',ls='--',lw=1)\n",
    "    plot(l**2*lcl[0,:]**2/(lcl[0,:]+nlbl),label='theory',color='k',lw=1)\n",
    "    plot(l**2*(lcl[0,:]+nlbl),label='theory (s+o)',color='k',lw=1)\n",
    "    legend()\n",
    "    savefig('fig_ctt_'+method+'.png')\n",
    "    show()"
   ]
  },
  {
   "cell_type": "code",
   "execution_count": 6,
   "metadata": {},
   "outputs": [],
   "source": [
    "def comp_mklm(rlz,fklm,lmax):\n",
    "    mklm = 0.\n",
    "    for i in rlz:\n",
    "        klm = pickle.load(open(fklm[i],\"rb\"))[0][:lmax+1,:lmax+1]\n",
    "        mklm += klm/len(rlz)\n",
    "    return mklm"
   ]
  },
  {
   "cell_type": "code",
   "execution_count": 7,
   "metadata": {},
   "outputs": [],
   "source": [
    "def comp_clkk(rlz,fklm,fplm,lmax,wn,fckk):\n",
    "    mklm = comp_mklm(rlz,fklm,lmax)\n",
    "    kk = np.zeros((4,len(rlz),lmax+1))\n",
    "    for i in rlz:\n",
    "        if i==1: print(fklm[i])\n",
    "        klm = pickle.load(open(fklm[i],\"rb\"))[0][:lmax+1,:lmax+1]\n",
    "        iklm = prjlib.load_input_plm(fplm[i],lmax,ktype='k')\n",
    "        ii = i - np.min(rlz)\n",
    "        kk[0,ii,:] = curvedsky.utils.alm2cl(lmax,klm)/wn[4]\n",
    "        kk[1,ii,:] = curvedsky.utils.alm2cl(lmax,klm,iklm)/wn[2]\n",
    "        kk[2,ii,:] = curvedsky.utils.alm2cl(lmax,iklm)\n",
    "    mkk = np.mean(kk,axis=1)\n",
    "    mkk[3,:] = curvedsky.utils.alm2cl(lmax,mklm)/wn[4]\n",
    "    L = np.linspace(0,lmax,lmax+1)\n",
    "    np.savetxt(fckk,np.concatenate((L[None,:],mkk)).T)"
   ]
  },
  {
   "cell_type": "code",
   "execution_count": 27,
   "metadata": {},
   "outputs": [],
   "source": [
    "def plot_ckk(pqf,fckk,method):\n",
    "    L, n0 = np.loadtxt(pqf.n0bs,unpack=True,usecols=(0,1))\n",
    "    e, N0 = np.loadtxt(pqf.n0bs.replace('_so','').replace('n005','n050'),unpack=True,usecols=(0,1))\n",
    "    L, al = np.loadtxt(pqf.al,unpack=True,usecols=(0,1))\n",
    "    l, rkk, xkk, ikk, mkk = np.loadtxt(fckk,unpack=True)\n",
    "    pl.plot_1dstyle(xlog=True,ylog=True,xmin=2,xmax=2000,ymin=1e-8,ymax=1e-2,ylab='$C_L^{\\kappa\\kappa}$')\n",
    "    plot(L,n0,label='N0')\n",
    "    plot(e,N0,label='N0')\n",
    "    plot(L,al,label='Norm')\n",
    "    plot(l,rkk,label=r'$C^{\\hat{\\kappa}\\hat{\\kappa}}_L$')\n",
    "    plot(l,mkk,label=r'Mean-field')\n",
    "    plot(l,rkk-mkk-.9*n0[:len(l)],'k-',label=r'$C^{\\hat{\\kappa}\\hat{\\kappa}}_L$ - Mean - N0')\n",
    "    plot(l,xkk,label=r'cross with input')\n",
    "    plot(l,ikk,label=r'input')\n",
    "    figtext(.1,.5,str(rlmin)+r'$\\leq \\ell_{\\rm cmb}\\leq$'+str(rlmax))\n",
    "    legend(loc=1)\n",
    "    savefig('fig_ckk_'+method+'.png')\n",
    "    show()"
   ]
  },
  {
   "cell_type": "code",
   "execution_count": 9,
   "metadata": {},
   "outputs": [],
   "source": [
    "def qrec(p,fcmbaps,lmax,lcl,wn,falm,fplm,fckk,exttag='',ow=False,rlmin=500,rlmax=2048,method='diag'):\n",
    "    l, Tww, Twi = np.loadtxt(fcmbaps,unpack=True)\n",
    "    ifl = np.zeros((3,lmax+1))\n",
    "    ocl = np.zeros((4,lmax+1))\n",
    "    if method == 'cinv':\n",
    "        alp = np.zeros((3,lmax+1))\n",
    "        alp[0,2:] = Twi[2:]/lcl[0,2:]\n",
    "        ocl[0,2:] = Tww[2:]/alp[0,2:]**2\n",
    "        ifl[0,2:] = Tww[2:]/alp[0,2:]\n",
    "    else:\n",
    "        ocl[0,:] = Tww\n",
    "        ifl[0,:] = Tww\n",
    "    quad = prjlib.quad_init(p.ids,p.stag+exttag,wn=wn,lcl=lcl,ocl=ocl,ifl=ifl,falm=falm,rlmin=rlmin,rlmax=rlmax,n0max=5,qlist=['TT'])\n",
    "    quad_func.qrec_flow(quad,p.snmin,p.snmax,donorm=True,doqrec=True,don0=True,dordn0=False,domean=False,overwrite=ow)\n",
    "    comp_clkk(p.rlz,quad.f['TT'].alm,fplm,quad.oLmax,wn,fckk)\n",
    "    plot_ckk(quad.f['TT'],fckk,method)\n",
    "    return quad"
   ]
  },
  {
   "cell_type": "code",
   "execution_count": 10,
   "metadata": {},
   "outputs": [],
   "source": [
    "def setup_filename(simtype,method,snmax,D='../../data/sodelens/trash/qrec/'):\n",
    "    exttag='_'+simtype+'_'+method\n",
    "    fctt = D+'cmb_aps'+exttag+'.dat'\n",
    "    fckk = D+'../../lens/aps/ckk_o'+exttag+'.dat'\n",
    "    fnlm, folm = {}, {}\n",
    "    fnlm['T'] = np.array([D+'cmb_nlm'+exttag+'_'+str(i).zfill(2)+'.pkl' for i in range(0,snmax+1)])\n",
    "    folm['T'] = np.array([D+'cmb_olm'+exttag+'_'+str(i).zfill(2)+'.pkl' for i in range(0,snmax+1)])\n",
    "    return exttag, fctt, fnlm, folm, fckk"
   ]
  },
  {
   "cell_type": "code",
   "execution_count": 11,
   "metadata": {},
   "outputs": [],
   "source": [
    "#simtype = 'plk' # binary mask + plk white noise\n",
    "#simtype = 'bla' # binary mask\n",
    "simtype = 'so'\n",
    "lmax = 3000\n",
    "rlmin, rlmax = 500, 3000\n",
    "#method = 'diag'\n",
    "method = 'cinv'\n",
    "p = prjlib.analysis_init(t='la',freq='coadd',snmin=1,snmax=10,lmax=lmax)\n",
    "pid = prjlib.analysis_init(t='id',ntype='cv',snmin=1,snmax=10,lmax=lmax)\n",
    "exttag, fctt, fnlm, folm, fkk = setup_filename(simtype,method,p.snmax)\n",
    "if simtype=='so': folm['T'] = np.array(['../../data/sodelens/trash/T_lcoadd_'+str(i).zfill(3)+'.pkl' for i in range(101)])"
   ]
  },
  {
   "cell_type": "code",
   "execution_count": 12,
   "metadata": {},
   "outputs": [],
   "source": [
    "if simtype=='bla':\n",
    "    bl = np.ones(lmax+1)\n",
    "    sigma = 0.\n",
    "elif simtype=='so':\n",
    "    bl = 1./cmb.beam(1.,lmax)\n",
    "    sigma = 10.\n",
    "else:\n",
    "    bl = 1./cmb.beam(7.,lmax)\n",
    "    sigma = 30.\n",
    "nl = (sigma*(np.pi/10800.)/2.72e6)**2 * np.ones(lmax+1)"
   ]
  },
  {
   "cell_type": "code",
   "execution_count": 13,
   "metadata": {},
   "outputs": [
    {
     "name": "stdout",
     "output_type": "stream",
     "text": [
      "NSIDE = 2048\n",
      "ORDERING = RING in fits file\n",
      "INDXSCHM = IMPLICIT\n",
      "fsky and normalization corrections: [0.5752538  0.14110665 0.04651988 0.01847941 0.008786  ]\n"
     ]
    }
   ],
   "source": [
    "W, M, wn = prjlib.window('la',p.nside)\n",
    "#WN = np.ones(5)*wn[0]"
   ]
  },
  {
   "cell_type": "code",
   "execution_count": 14,
   "metadata": {},
   "outputs": [],
   "source": [
    "# output mask\n",
    "#hp.fitsfunc.write_map('la_n2048_binary.fits',M)\n",
    "#hp.mollview(M)"
   ]
  },
  {
   "cell_type": "code",
   "execution_count": 15,
   "metadata": {},
   "outputs": [],
   "source": [
    "if simtype in ['plk','bla']: #binary mask\n",
    "    wn[:] = wn[0]\n",
    "    W = 1.*M\n",
    "if simtype == 'so':\n",
    "    #wn = np.ones(5)\n",
    "    wn[:] = wn[0]"
   ]
  },
  {
   "cell_type": "code",
   "execution_count": 16,
   "metadata": {},
   "outputs": [],
   "source": [
    "if method=='diag':\n",
    "    genalm(p.rlz,pid.fcmb.alms['o']['T'],p.lmax,p.nside,bl,nl,W,folm['T'],fnlm['T'],simtype,ow=False)"
   ]
  },
  {
   "cell_type": "code",
   "execution_count": 17,
   "metadata": {},
   "outputs": [],
   "source": [
    "if simtype!='so' and method=='cinv':\n",
    "    cninv(p.rlz,pid.fcmb.alms['o']['T'],fnlm['T'],p.lmax,p.nside,bl,p.lcl,M,W,folm['T'],ow=False)"
   ]
  },
  {
   "cell_type": "code",
   "execution_count": 20,
   "metadata": {},
   "outputs": [
    {
     "data": {
      "image/png": "[encoded data removed]",
      "text/plain": [
       "<Figure size 432x288 with 1 Axes>"
      ]
     },
     "metadata": {
      "needs_background": "light"
     },
     "output_type": "display_data"
    }
   ],
   "source": [
    "comp_cmbcls(p.rlz,p.lmax,wn,pid.fcmb.alms['o']['T'],folm['T'],fctt)\n",
    "#comp_cmbcls(p.rlz,p.lmax,wn,pid.fcmb.alms['o']['T'],folm['T'],fwlm['T'],fcmbaps)\n",
    "plot_cmbcls(fctt,p.lcl,nl/bl**2,method)"
   ]
  },
  {
   "cell_type": "code",
   "execution_count": 28,
   "metadata": {},
   "outputs": [
    {
     "name": "stderr",
     "output_type": "stream",
     "text": [
      "/global/homes/t/toshiyan/.conda/envs/loc/lib/python3.7/site-packages/ipykernel_launcher.py:8: RuntimeWarning: invalid value encountered in true_divide\n",
      "  \n",
      "/global/homes/t/toshiyan/.conda/envs/loc/lib/python3.7/site-packages/ipykernel_launcher.py:9: RuntimeWarning: invalid value encountered in true_divide\n",
      "  if __name__ == '__main__':\n"
     ]
    },
    {
     "name": "stdout",
     "output_type": "stream",
     "text": [
      "/project/projectdirs/sobs/delensing/lens/aps/Al_TT_lacoadd_base_so_cinv_l500-3000.dat exist and is not overwritten\n",
      "/project/projectdirs/sobs/delensing/lens/alm/alm_TT_lacoadd_base_so_cinv_l500-3000_0001.pkl exist and is not overwritten\n",
      "/project/projectdirs/sobs/delensing/lens/alm/alm_TT_lacoadd_base_so_cinv_l500-3000_0002.pkl exist and is not overwritten\n",
      "/project/projectdirs/sobs/delensing/lens/alm/alm_TT_lacoadd_base_so_cinv_l500-3000_0003.pkl exist and is not overwritten\n",
      "/project/projectdirs/sobs/delensing/lens/alm/alm_TT_lacoadd_base_so_cinv_l500-3000_0004.pkl exist and is not overwritten\n",
      "/project/projectdirs/sobs/delensing/lens/alm/alm_TT_lacoadd_base_so_cinv_l500-3000_0005.pkl exist and is not overwritten\n",
      "/project/projectdirs/sobs/delensing/lens/alm/alm_TT_lacoadd_base_so_cinv_l500-3000_0006.pkl exist and is not overwritten\n",
      "/project/projectdirs/sobs/delensing/lens/alm/alm_TT_lacoadd_base_so_cinv_l500-3000_0007.pkl exist and is not overwritten\n",
      "/project/projectdirs/sobs/delensing/lens/alm/alm_TT_lacoadd_base_so_cinv_l500-3000_0008.pkl exist and is not overwritten\n",
      "/project/projectdirs/sobs/delensing/lens/alm/alm_TT_lacoadd_base_so_cinv_l500-3000_0009.pkl exist and is not overwritten\n",
      "/project/projectdirs/sobs/delensing/lens/alm/alm_TT_lacoadd_base_so_cinv_l500-3000_0010.pkl exist and is not overwritten\n",
      "/project/projectdirs/sobs/delensing/lens/aps/n0_TT_lacoadd_base_so_cinv_l500-3000_n005.dat exist and is not overwritten\n",
      "/project/projectdirs/sobs/delensing/lens/alm/alm_TT_lacoadd_base_so_cinv_l500-3000_0001.pkl\n"
     ]
    },
    {
     "data": {
      "image/png": "[encoded data removed]",
      "text/plain": [
       "<Figure size 432x288 with 1 Axes>"
      ]
     },
     "metadata": {
      "needs_background": "light"
     },
     "output_type": "display_data"
    }
   ],
   "source": [
    "q0 = qrec(p,fctt,p.lmax,p.lcl,wn,folm,p.fpalm,fkk,exttag=exttag,method=method,rlmin=rlmin,rlmax=rlmax,ow=False)"
   ]
  },
  {
   "cell_type": "code",
   "execution_count": null,
   "metadata": {},
   "outputs": [],
   "source": [
    "m = hp.ud_grade(M,64)"
   ]
  },
  {
   "cell_type": "code",
   "execution_count": null,
   "metadata": {},
   "outputs": [],
   "source": [
    "Lmax = 100\n",
    "nside = 64\n",
    "klm = pickle.load(open(q0.f['TT'].alm[1],\"rb\"))[0][:Lmax+1,:Lmax+1]\n",
    "kap = curvedsky.utils.hp_alm2map(64,Lmax,Lmax,klm)/wn[2]\n",
    "hp.mollview(kap,min=-.5,max=.29)\n",
    "savefig('fig_kap_plk.png')"
   ]
  },
  {
   "cell_type": "code",
   "execution_count": null,
   "metadata": {},
   "outputs": [],
   "source": [
    "mklm = comp_mklm(p.rlz,q0.f['TT'].alm,Lmax)\n",
    "#klm = pickle.load(open(q0.f['TT'].mf,\"rb\"))[0][:Lmax+1,:Lmax+1]\n",
    "mkap = curvedsky.utils.hp_alm2map(nside,Lmax,Lmax,mklm)/wn[2]\n",
    "hp.mollview(mkap,min=-.5,max=.29)\n",
    "savefig('fig_mkap_plk.png')"
   ]
  },
  {
   "cell_type": "code",
   "execution_count": null,
   "metadata": {},
   "outputs": [],
   "source": [
    "hp.mollview(kap-mkap,min=-.5,max=.29)\n",
    "savefig('fig_dkap_plk.png')"
   ]
  },
  {
   "cell_type": "code",
   "execution_count": null,
   "metadata": {},
   "outputs": [],
   "source": [
    "hp.mollview(m,min=.99,max=1.)"
   ]
  },
  {
   "cell_type": "code",
   "execution_count": null,
   "metadata": {},
   "outputs": [],
   "source": []
  }
 ],
 "metadata": {
  "kernelspec": {
   "display_name": "Python 3",
   "language": "python",
   "name": "python3"
  },
  "language_info": {
   "codemirror_mode": {
    "name": "ipython",
    "version": 3
   },
   "file_extension": ".py",
   "mimetype": "text/x-python",
   "name": "python",
   "nbconvert_exporter": "python",
   "pygments_lexer": "ipython3",
   "version": "3.7.2"
  }
 },
 "nbformat": 4,
 "nbformat_minor": 4
}
