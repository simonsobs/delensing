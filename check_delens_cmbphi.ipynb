{
 "cells": [
  {
   "cell_type": "code",
   "execution_count": 6,
   "metadata": {},
   "outputs": [],
   "source": [
    "import numpy as np, prjlib, plottools as pl, healpy as hp, pickle, curvedsky, quad_func, misctools, tools_lens, tools_delens, tools_multitracer\n",
    "from matplotlib.pyplot import *"
   ]
  },
  {
   "cell_type": "code",
   "execution_count": 2,
   "metadata": {},
   "outputs": [],
   "source": [
    "snmin, snmax = 1, 10\n",
    "ntype = 'base_roll50'\n",
    "ntype = 'base_iso_roll50'\n",
    "ntype_E = 'base_roll50'\n",
    "#ntype_E = 'base'\n",
    "olmax = 1024\n",
    "#types = [('la','cinv')]\n",
    "types = ['none']\n",
    "#klist = ['ALLid']\n",
    "klist = ['TT','TE','EE','EB']\n",
    "klist = ['comb']\n",
    "kfltr = 'none'\n",
    "#kfltr = 'cinv'\n",
    "pE = prjlib.analysis_init(t='co',freq='com',fltr='cinv',ntype=ntype_E)"
   ]
  },
  {
   "cell_type": "code",
   "execution_count": 8,
   "metadata": {},
   "outputs": [
    {
     "name": "stdout",
     "output_type": "stream",
     "text": [
      "{'TT': 0, 'TE': 1, 'EE': 2, 'EB': 3, 'g0': 4, 'g1': 5, 'g2': 6, 'g3': 7, 'g4': 8, 'g5': 9, 'cib': 10}\n"
     ]
    }
   ],
   "source": [
    "rho, bb = {}, {}\n",
    "d = prjlib.data_directory()\n",
    "for fltr in types:\n",
    "    p = prjlib.analysis_init(t='la',freq='com',fltr=fltr,snmin=snmin,snmax=snmax,ntype=ntype)\n",
    "    qobj = tools_lens.init_qobj(p.stag,'False',rlmin=300,rlmax=4096)\n",
    "    mobj = tools_multitracer.mass_tracer(p,qobj,add_cmb=['TT','TE','EE','EB'])\n",
    "    dobj = tools_delens.init_template(p.stag+qobj.ltag,mobj.klist,pE.stag,False,klist=klist,kfltr=kfltr,elmin=50)\n",
    "    Wsa, __ = prjlib.window('sa',512)\n",
    "    #Wla, __ = prjlib.window('la',ascale=0.)\n",
    "    #Wsa *= hp.pixelfunc.ud_grade(Wla,512)\n",
    "    #wnsa = np.mean(Wsa)\n",
    "    pid = prjlib.analysis_init(t='id',ntype='cv',snmin=snmin,snmax=snmax)"
   ]
  },
  {
   "cell_type": "code",
   "execution_count": 9,
   "metadata": {},
   "outputs": [
    {
     "name": "stderr",
     "output_type": "stream",
     "text": [
      "/global/homes/t/toshiyan/.conda/envs/loc/lib/python3.7/site-packages/ipykernel_launcher.py:6: RuntimeWarning: invalid value encountered in true_divide\n",
      "  \n"
     ]
    },
    {
     "data": {
      "image/png": "[encoded data removed]",
      "text/plain": [
       "<Figure size 576x432 with 1 Axes>"
      ]
     },
     "metadata": {
      "needs_background": "light"
     },
     "output_type": "display_data"
    }
   ],
   "source": [
    "pl.plot_1dstyle(fsize=[8,6],xmin=2,xmax=200,ymin=.0,ymax=.7,grid=True,ylab=r'$C_L^{\\rm LT}/C_L^{\\rm Lens}$')\n",
    "for k in klist:\n",
    "    r = 0.\n",
    "    for i in range(snmin,snmax+1):\n",
    "        BB, TT, BT = np.loadtxt(dobj.cl[k][i],unpack=True)\n",
    "        r += BT**2/BB/TT\n",
    "    plot(r/(snmax-snmin+1))\n",
    "    #savefig('fig_each_'+fltr+'_'+ntype+'_k'+kfltr+'_'+p.stag+qobj.ltag+'_'+pE.stag+'.png')"
   ]
  },
  {
   "cell_type": "code",
   "execution_count": null,
   "metadata": {},
   "outputs": [],
   "source": [
    "# BB spec\n",
    "wnsa = 1.\n",
    "pl.plot_1dstyle(xmin=2,xmax=500)\n",
    "BB, TT, BT = np.loadtxt(dobj.cl['comb'][1],unpack=True)\n",
    "plot(BB/wnsa,label='Input BB with SAT window')\n",
    "plot(TT/wnsa,label='Template BB at SAT')\n",
    "plot(BT/wnsa,label='Cross')\n",
    "plot(p.lcl[2])\n",
    "legend()\n",
    "#savefig('fig_example.png')"
   ]
  },
  {
   "cell_type": "code",
   "execution_count": null,
   "metadata": {},
   "outputs": [],
   "source": [
    "pl.plot_1dstyle(fsize=[8,6],xmin=2,xmax=200,ymin=.0,ymax=.6,grid=True,ylab=r'$C_L^{\\rm LT}/C_L^{\\rm Lens}$')\n",
    "for fltr in types:\n",
    "    bb, rho = np.loadtxt(dobj.frho,unpack=True,usecols=(1,2))\n",
    "    #plot(rho[fltr]/bb[fltr])\n",
    "    plot(rho/bb)\n",
    "    savefig('fig_wopt_'+fltr+'_'+ntype+'_k'+kfltr+'_'+p.stag+qobj.ltag+'_'+pE.stag+'.png')"
   ]
  },
  {
   "cell_type": "code",
   "execution_count": null,
   "metadata": {},
   "outputs": [],
   "source": [
    "lmax = 100\n",
    "nside = 128\n",
    "vmin, vmax = -1e-7, 1e-7\n",
    "highpass = np.ones((lmax+1,lmax+1))\n",
    "highpass[:20,:] = 0.\n",
    "iblm = pickle.load(open(pid.fcmb.alms['o']['B'][1],\"rb\"))[:lmax+1,:lmax+1] * highpass\n",
    "ibmap = curvedsky.utils.hp_alm2map(nside,lmax,lmax,iblm[:lmax+1,:lmax+1]) \n",
    "wsa = hp.ud_grade(Wsa,nside)\n",
    "wblm = pickle.load(open(dobj.falm['TT'][1],\"rb\"))[:lmax+1,:lmax+1] * 2 * highpass\n",
    "wbmap = curvedsky.utils.hp_alm2map(nside,lmax,lmax,wblm[:lmax+1,:lmax+1])\n",
    "prjlib.view_map_from_alm(iblm,nside,lmax,min=vmin,max=vmax)\n",
    "prjlib.view_map_from_alm(wblm,nside,lmax,min=vmin,max=vmax)\n",
    "hp.mollview(ibmap*wsa,min=vmin,max=vmax)\n",
    "savefig('fig_masked_bmap_input.png')\n",
    "hp.mollview(wbmap*wsa,min=vmin,max=vmax)\n",
    "savefig('fig_masked_bmap_template_TT.png')"
   ]
  },
  {
   "cell_type": "code",
   "execution_count": null,
   "metadata": {},
   "outputs": [],
   "source": []
  }
 ],
 "metadata": {
  "kernelspec": {
   "display_name": "py4so",
   "language": "python",
   "name": "py4so"
  },
  "language_info": {
   "codemirror_mode": {
    "name": "ipython",
    "version": 3
   },
   "file_extension": ".py",
   "mimetype": "text/x-python",
   "name": "python",
   "nbconvert_exporter": "python",
   "pygments_lexer": "ipython3",
   "version": "3.7.2"
  }
 },
 "nbformat": 4,
 "nbformat_minor": 4
}
