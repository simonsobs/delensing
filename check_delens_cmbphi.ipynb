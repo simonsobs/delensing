{
 "cells": [
  {
   "cell_type": "code",
   "execution_count": 1,
   "metadata": {},
   "outputs": [],
   "source": [
    "import numpy as np, prjlib, plottools as pl, healpy as hp, pickle, curvedsky, delens_tools, quad_func, misctools\n",
    "from matplotlib.pyplot import *\n",
    "from IPython.display import clear_output"
   ]
  },
  {
   "cell_type": "code",
   "execution_count": 2,
   "metadata": {},
   "outputs": [],
   "source": [
    "def prep_window(wtype,fmaskla,fmasksa,nsidesa=512):\n",
    "    if wtype in ['i','W']:\n",
    "        wfac = None\n",
    "        #Wla = 1.\n",
    "    else:\n",
    "        wfac = {}\n",
    "        __, __, wfac['fsky'], wfac['w1'], wfac['w2'], wfac['w4'] = prjlib.window(fmaskla)\n",
    "        #Mla0 = hp.pixelfunc.ud_grade(Mla,nsidesa)\n",
    "        #Wla = hp.pixelfunc.ud_grade(wla,nsidesa)\n",
    "    Wsa, __, __, __, __, __ = prjlib.window(fmasksa)\n",
    "    return wfac, Wsa"
   ]
  },
  {
   "cell_type": "code",
   "execution_count": 3,
   "metadata": {},
   "outputs": [],
   "source": [
    "def prep_qrec(wtype,p,f,r,ow=False,vb=False):\n",
    "    if wtype in ['W','i']:\n",
    "        ocl = prjlib.loadocl(f.cmb.scl['o'],lTmin=p.lTmin,lTmax=p.lTmax)\n",
    "        ifl = r.lcl[0:3,:]\n",
    "    if wtype == 'w':\n",
    "        ocl, ifl = prjlib.quad_filter(f.cmb.scl,p.lmax,r.lcl,sinp=wtype,lTmin=p.lTmin,lTmax=p.lTmax)\n",
    "    quad_func.quad.cinvfilter(p.quad,ocl=ifl)\n",
    "    quad_func.quad.al(p.quad,r.lcl,ocl,overwrite=ow,verbose=vb)\n",
    "    quad_func.quad.qrec(p.quad,p.snmin,p.snmax,f.cmb.alms[wtype],r.lcl,overwrite=ow,verbose=vb)"
   ]
  },
  {
   "cell_type": "code",
   "execution_count": 4,
   "metadata": {},
   "outputs": [],
   "source": [
    "def plot_al():\n",
    "    pl.plot_1dstyle(fsize=[7,4],xmin=20,xmax=3000,xlog=True,ylog=True,ymin=5e-9,ymax=4e-6,grid=True)\n",
    "    Al = {}\n",
    "    for q in ['TT','TE','EE','EB']:\n",
    "        Al[q] = np.loadtxt(p.quad.f[q].al,unpack=True)[1]\n",
    "        plot(Al[q],label=q)\n",
    "    legend()"
   ]
  },
  {
   "cell_type": "code",
   "execution_count": 17,
   "metadata": {},
   "outputs": [],
   "source": [
    "def delens(wtype,p,psa,fco,fid,Wsa,r,ep=1e-30,olmax=1024,qlist=['TT','TE','PO','TP'],rmmean=False,wfac=None):\n",
    "    p.quad.qlist.extend(['PO','TP'])\n",
    "    wlk = prjlib.Wiener_Lensing(p.quad.f,r.kk,p.dlmin,p.dlmax,kL=r.kL,qlist=p.quad.qlist)\n",
    "    cl = {}\n",
    "    LT = {}\n",
    "    for q in qlist:  cl[q] = np.zeros((p.snmax-p.snmin+1,3,olmax+1))\n",
    "    for i in p.rlz:\n",
    "        misctools.progress(i,p.rlz)\n",
    "        wElm = pickle.load(open(fco.cmb.alms['w']['E'][i],\"rb\"))[:p.dlmax+1,:p.dlmax+1]\n",
    "        Balm = pickle.load(open(fid.cmb.alms['o']['B'][i],\"rb\"))[:olmax+1,:olmax+1]\n",
    "        __, wBlm = prjlib.multiplywindow_spin(Wsa,psa.npix,psa.nside,olmax,0*Balm,Balm)\n",
    "        klm = delens_tools.prep_klms(p.quad.f,i,p.dlmax,wfac=wfac,remove_mean=rmmean,qlist=p.quad.qlist)\n",
    "        LT[i] = {}\n",
    "        for q in qlist:\n",
    "            print(q)\n",
    "            if q=='TT':\n",
    "                wplm = 0.*klm[q]\n",
    "                for n0, n1 in [(32,64),(64,128),(128,256),(256,512),(512,1024)]:\n",
    "                    l0, l1 = 2*n0+1, 2*n1\n",
    "                    skap, nkap, wphi = pickle.load(open('trash/tmp_w_'+str(n1)+'.pkl',\"rb\"))\n",
    "                    #wphi = nkap/(skap+1e-30)\n",
    "                    wlm = klm[q]*wlk[q][:,None]\n",
    "                    wlm[:l0,:] = 0.\n",
    "                    tmp = prjlib.multiplywindow(wphi,12*n1**2,n1,l1,wlm[:l1+1,:l1+1])\n",
    "                    wplm[l0:l1+1,:l1+1] = tmp[l0:l1+1,:l1+1]\n",
    "                    if n0==32:  wplm[:l0,:] = wlm[:l0,:]\n",
    "            else:\n",
    "                wplm = klm[q]*wlk[q][:,None]\n",
    "            dalm = curvedsky.delens.lensingb(olmax,p.dlmin,p.dlmax,p.dlmin,p.dlmax,wElm,wplm)\n",
    "            __, dalm = prjlib.multiplywindow_spin(Wsa,psa.npix,psa.nside,olmax,0*dalm,dalm)\n",
    "            ii = i - p.snmin\n",
    "            cl[q][ii,0,:] = curvedsky.utils.alm2cl(olmax,wBlm) + ep\n",
    "            cl[q][ii,1,:] = curvedsky.utils.alm2cl(olmax,dalm) + ep\n",
    "            cl[q][ii,2,:] = curvedsky.utils.alm2cl(olmax,dalm,wBlm) + ep\n",
    "            LT[i][q] = dalm\n",
    "    pl.plot_1dstyle(fsize=[8,6],xmin=3,xmax=200,ymin=.0,ymax=.6,grid=True,ylab=r'$C_L^{\\rm LT}/C_L^{\\rm Lens}$')\n",
    "    for q in qlist:\n",
    "        plot(np.mean(cl[q][:,2,:]**2/(cl[q][:,0,:]*cl[q][:,1,:]),axis=0),label=q)\n",
    "    legend()\n",
    "    savefig('fig_delens_'+wtype+'.png')\n",
    "    clf()\n",
    "    return cl, LT"
   ]
  },
  {
   "cell_type": "code",
   "execution_count": 18,
   "metadata": {},
   "outputs": [
    {
     "name": "stdout",
     "output_type": "stream",
     "text": [
      "Current progress : 0.0 %\n",
      "TT\n"
     ]
    },
    {
     "data": {
      "text/plain": [
       "<Figure size 576x432 with 0 Axes>"
      ]
     },
     "metadata": {},
     "output_type": "display_data"
    }
   ],
   "source": [
    "psa, fsa, __ = prjlib.analysis_init(t='sa',freq='coadd')\n",
    "fid = prjlib.filename_init(t='id')\n",
    "fco = prjlib.filename_init(t='co',freq='coadd')\n",
    "bb, LT = {}, {}\n",
    "#for wtype in ['i','W','w']:\n",
    "for wtype in ['w']:\n",
    "    if wtype == 'i':  exttag, rmmean = '_iso', False\n",
    "    if wtype == 'W':  exttag, rmmean = '_wdiag', True\n",
    "    if wtype == 'w':  exttag, rmmean = '', True\n",
    "    p, f, r = prjlib.analysis_init(t='la',freq='coadd',rlmin=500,rlmax=3000,snmin=1,snmax=1,exttag=exttag,qlist=['TT','TE','EE','EB'])\n",
    "    wfac, Wsa = prep_window(wtype,f.cmb.mask,fsa.cmb.mask,nsidesa=psa.nside)\n",
    "    #prep_qrec(wtype,p,f,r,ow=False,vb=True)\n",
    "    bb[wtype], LT[wtype] = delens(wtype,p,psa,fco,fid,Wsa,r,rmmean=rmmean,wfac=wfac,qlist=['TT'])"
   ]
  },
  {
   "cell_type": "code",
   "execution_count": null,
   "metadata": {},
   "outputs": [],
   "source": [
    "olmax=1024\n",
    "wtype = 'w'\n",
    "cbb = np.zeros((p.snmax-p.snmin+1,olmax+1))\n",
    "vec = np.zeros((p.snmax-p.snmin+1,3,olmax+1))\n",
    "mat = np.zeros((p.snmax-p.snmin+1,3,3,olmax+1))\n",
    "for i in range(p.snmin,p.snmax+1):\n",
    "    ii = i - p.snmin\n",
    "    Balm = pickle.load(open(fid.cmb.alms['o']['B'][i],\"rb\"))[0:olmax+1,0:olmax+1]\n",
    "    __, wBlm = prjlib.multiplywindow_spin(Wsa,psa.npix,psa.nside,olmax,0*Balm,Balm)\n",
    "    cbb[ii,:] = curvedsky.utils.alm2cl(olmax,wBlm)\n",
    "    for qi, q0 in enumerate(['TT','TE','PO']):\n",
    "        vec[ii,qi,:] = curvedsky.utils.alm2cl(olmax,LT[wtype][i][q0],wBlm)\n",
    "        for qj, q1 in enumerate(['TT','TE','PO']):\n",
    "            mat[ii,qi,qj,:] = curvedsky.utils.alm2cl(olmax,LT[wtype][i][q0],LT[wtype][i][q1])"
   ]
  },
  {
   "cell_type": "code",
   "execution_count": null,
   "metadata": {},
   "outputs": [],
   "source": [
    "ylim(0.,0.6)\n",
    "xlim(2,200)\n",
    "mvec = np.mean(vec,axis=0)\n",
    "mmat = np.mean(mat,axis=0)\n",
    "rho = np.zeros(olmax+1)\n",
    "bb = np.mean(cbb,axis=0)\n",
    "for l in range(2,olmax):\n",
    "    rho[l] = np.dot(mvec[:,l],np.dot(np.linalg.inv(mmat[:,:,l]),mvec[:,l]))\n",
    "plot(rho/bb)\n",
    "savefig('fig_delens_wopt.png')"
   ]
  },
  {
   "cell_type": "code",
   "execution_count": null,
   "metadata": {},
   "outputs": [],
   "source": []
  }
 ],
 "metadata": {
  "kernelspec": {
   "display_name": "py4so",
   "language": "python",
   "name": "py4so"
  },
  "language_info": {
   "codemirror_mode": {
    "name": "ipython",
    "version": 3
   },
   "file_extension": ".py",
   "mimetype": "text/x-python",
   "name": "python",
   "nbconvert_exporter": "python",
   "pygments_lexer": "ipython3",
   "version": "3.7.2"
  }
 },
 "nbformat": 4,
 "nbformat_minor": 4
}
