{
 "cells": [
  {
   "cell_type": "code",
   "execution_count": 1,
   "metadata": {},
   "outputs": [],
   "source": [
    "import numpy as np, healpy as hp, pickle, prjlib, curvedsky, tqdm"
   ]
  },
  {
   "cell_type": "code",
   "execution_count": 2,
   "metadata": {},
   "outputs": [],
   "source": [
    "ntype = 'base'\n",
    "types = ['id','la','co','LA']\n",
    "num = 50\n",
    "p = {}\n",
    "p['id'] = prjlib.analysis_init(t='id',ntype='cv')\n",
    "p['LA'] = prjlib.analysis_init(t='la',freq='com',fltr='none',ntype=ntype+'_roll50')\n",
    "p['la'] = prjlib.analysis_init(t='la',freq='com',fltr='cinv',ntype=ntype+'_roll50')\n",
    "p['co'] = prjlib.analysis_init(t='co',freq='com',fltr='cinv',ntype=ntype+'_roll50')"
   ]
  },
  {
   "cell_type": "code",
   "execution_count": 3,
   "metadata": {},
   "outputs": [],
   "source": [
    "lmax, l = {}, {}\n",
    "for c in types: lmax[c] = 4096\n",
    "lmax['co'] = 2048\n",
    "for c in types: l[c] = np.linspace(0,lmax[c],lmax[c]+1)"
   ]
  },
  {
   "cell_type": "code",
   "execution_count": null,
   "metadata": {},
   "outputs": [
    {
     "name": "stdout",
     "output_type": "stream",
     "text": [
      "The loaded SAT mask is further multiplied by hit-count \"binary\" (not hit count itself)\n"
     ]
    },
    {
     "name": "stderr",
     "output_type": "stream",
     "text": [
      "/global/homes/t/toshiyan/.local/lib/python3.7/site-packages/healpy/fitsfunc.py:391: UserWarning: NSIDE = 512\n",
      "  warnings.warn(\"NSIDE = {0:d}\".format(nside))\n",
      "/global/homes/t/toshiyan/.local/lib/python3.7/site-packages/healpy/fitsfunc.py:400: UserWarning: ORDERING = RING in fits file\n",
      "  warnings.warn(\"ORDERING = {0:s} in fits file\".format(ordering))\n",
      "/global/homes/t/toshiyan/.local/lib/python3.7/site-packages/healpy/fitsfunc.py:428: UserWarning: INDXSCHM = IMPLICIT\n",
      "  warnings.warn(\"INDXSCHM = {0:s}\".format(schm))\n"
     ]
    }
   ],
   "source": [
    "Wsa = hp.pixelfunc.ud_grade(prjlib.window('sa')[0],2048)\n",
    "Wla = prjlib.window('la',ascale=0)[0] # here, apodized mask is used otherwise the correlations at edge gets worse\n",
    "Wco = Wsa * Wla #hp.pixelfunc.ud_grade(Wla,512)"
   ]
  },
  {
   "cell_type": "code",
   "execution_count": 5,
   "metadata": {},
   "outputs": [],
   "source": [
    "Elm, Blm = {}, {}\n",
    "EE, BB, xE, xB = {}, {}, {}, {}\n",
    "rhoE, rhoB = {}, {} \n",
    "for c in ['id','LA','la','co']:\n",
    "    rhoE[c], rhoB[c] = 0., 0."
   ]
  },
  {
   "cell_type": "code",
   "execution_count": 6,
   "metadata": {},
   "outputs": [
    {
     "name": "stderr",
     "output_type": "stream",
     "text": [
      "  0%|          | 0/50 [00:00<?, ?it/s]/global/homes/t/toshiyan/.conda/envs/loc/lib/python3.7/site-packages/ipykernel_launcher.py:15: RuntimeWarning: invalid value encountered in true_divide\n",
      "  from ipykernel import kernelapp as app\n",
      "/global/homes/t/toshiyan/.conda/envs/loc/lib/python3.7/site-packages/ipykernel_launcher.py:16: RuntimeWarning: invalid value encountered in true_divide\n",
      "  app.launch_new_instance()\n",
      "100%|██████████| 50/50 [8:36:43<00:00, 620.08s/it]  \n"
     ]
    }
   ],
   "source": [
    "for i in tqdm.tqdm(range(1,num+1)):\n",
    "    for c in ['id','LA','la']:\n",
    "        Elm[c] = pickle.load(open(p[c].fcmb.alms['o']['E'][i],\"rb\"))[:lmax[c]+1,:lmax[c]+1]\n",
    "        Blm[c] = pickle.load(open(p[c].fcmb.alms['o']['B'][i],\"rb\"))[:lmax[c]+1,:lmax[c]+1]\n",
    "        # cutsky for E\n",
    "        Elm[c] = curvedsky.utils.mulwin_spin(Elm[c],0*Elm[c],Wla)[0]\n",
    "        Blm[c] = curvedsky.utils.mulwin_spin(0*Blm[c],Blm[c],Wla)[1]\n",
    "        # cl\n",
    "        EE[c,i] = curvedsky.utils.alm2cl(lmax[c],Elm[c])\n",
    "        BB[c,i] = curvedsky.utils.alm2cl(lmax[c],Blm[c])\n",
    "        if c=='id': continue\n",
    "        xE[c,i] = curvedsky.utils.alm2cl(lmax[c],Elm[c],Elm['id'][:lmax[c]+1,:lmax[c]+1])\n",
    "        xB[c,i] = curvedsky.utils.alm2cl(lmax[c],Blm[c],Blm['id'][:lmax[c]+1,:lmax[c]+1])\n",
    "        # corr coeff\n",
    "        rhoE[c] += xE[c,i]**2/EE[c,i]/EE['id',i][:lmax[c]+1]/num\n",
    "        rhoB[c] += xB[c,i]**2/BB[c,i]/BB['id',i][:lmax[c]+1]/num"
   ]
  },
  {
   "cell_type": "code",
   "execution_count": 7,
   "metadata": {},
   "outputs": [
    {
     "name": "stderr",
     "output_type": "stream",
     "text": [
      "  0%|          | 0/50 [00:00<?, ?it/s]/global/homes/t/toshiyan/.conda/envs/loc/lib/python3.7/site-packages/ipykernel_launcher.py:17: RuntimeWarning: invalid value encountered in true_divide\n",
      "/global/homes/t/toshiyan/.conda/envs/loc/lib/python3.7/site-packages/ipykernel_launcher.py:18: RuntimeWarning: invalid value encountered in true_divide\n",
      "100%|██████████| 50/50 [3:44:24<00:00, 269.29s/it]  \n"
     ]
    }
   ],
   "source": [
    "for c in ['id','co']:\n",
    "    rhoE[c], rhoB[c] = 0., 0.\n",
    "for i in tqdm.tqdm(range(1,num+1)):\n",
    "    for c in ['id','co']:\n",
    "        Elm[c] = pickle.load(open(p[c].fcmb.alms['o']['E'][i],\"rb\"))[:lmax[c]+1,:lmax[c]+1]\n",
    "        Blm[c] = pickle.load(open(p[c].fcmb.alms['o']['B'][i],\"rb\"))[:lmax[c]+1,:lmax[c]+1]\n",
    "        # cutsky for E\n",
    "        Elm[c] = curvedsky.utils.mulwin_spin(Elm[c],0*Elm[c],Wco)[0]\n",
    "        Blm[c] = curvedsky.utils.mulwin_spin(0*Blm[c],Blm[c],Wco)[1]\n",
    "        # cl\n",
    "        EE[c,i] = curvedsky.utils.alm2cl(lmax[c],Elm[c])\n",
    "        BB[c,i] = curvedsky.utils.alm2cl(lmax[c],Blm[c])\n",
    "        if c=='id': continue\n",
    "        xE[c,i] = curvedsky.utils.alm2cl(lmax[c],Elm[c],Elm['id'][:lmax[c]+1,:lmax[c]+1])\n",
    "        xB[c,i] = curvedsky.utils.alm2cl(lmax[c],Blm[c],Blm['id'][:lmax[c]+1,:lmax[c]+1])\n",
    "        # corr coeff\n",
    "        rhoE[c] += xE[c,i]**2/EE[c,i]/EE['id',i][:lmax[c]+1]/num\n",
    "        rhoB[c] += xB[c,i]**2/BB[c,i]/BB['id',i][:lmax[c]+1]/num\n",
    "    #rhoE[c] /= num\n",
    "    #rhoB[c] /= num"
   ]
  },
  {
   "cell_type": "code",
   "execution_count": 8,
   "metadata": {},
   "outputs": [],
   "source": [
    "for c in types:\n",
    "    if c=='id': continue\n",
    "    np.savetxt('../../data/sodelens/paper/2021_pipeline/cinv_rho_'+c+'.dat',np.array((rhoE[c],rhoB[c])).T)"
   ]
  },
  {
   "cell_type": "code",
   "execution_count": null,
   "metadata": {},
   "outputs": [],
   "source": []
  }
 ],
 "metadata": {
  "kernelspec": {
   "display_name": "py4so",
   "language": "python",
   "name": "py4so"
  },
  "language_info": {
   "codemirror_mode": {
    "name": "ipython",
    "version": 3
   },
   "file_extension": ".py",
   "mimetype": "text/x-python",
   "name": "python",
   "nbconvert_exporter": "python",
   "pygments_lexer": "ipython3",
   "version": "3.7.2"
  }
 },
 "nbformat": 4,
 "nbformat_minor": 4
}
