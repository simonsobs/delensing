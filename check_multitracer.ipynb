{
 "cells": [
  {
   "cell_type": "code",
   "execution_count": 1,
   "metadata": {},
   "outputs": [],
   "source": [
    "import tools_multitracer as multi, healpy as hp, prjlib, tools_lens, curvedsky, tools_delens, pickle\n",
    "from matplotlib.pyplot import *"
   ]
  },
  {
   "cell_type": "code",
   "execution_count": 2,
   "metadata": {},
   "outputs": [],
   "source": [
    "add_cmb = ['TT','TE','EE','EB']\n",
    "#add_cmb = ['TT']\n",
    "glob = prjlib.analysis_init(t='la',freq='com',ntype='base_iso_roll50')\n",
    "qobj = tools_lens.init_qobj( glob.stag, glob.doreal, rlmin=300, rlmax=4096 )\n",
    "mobj = multi.mass_tracer( glob, qobj , add_cmb=add_cmb)\n",
    "#alm = pickle.load( open(mobj.fcklm[1],\"rb\") )"
   ]
  },
  {
   "cell_type": "code",
   "execution_count": 3,
   "metadata": {},
   "outputs": [],
   "source": [
    "cl_matrix, clnl_matrix = multi.get_spectra_matrix( mobj )\n",
    "aux_cl, A = multi.calculate_sim_weights( cl_matrix, mobj.lmin, len(mobj.klist_cmb.keys()) )"
   ]
  },
  {
   "cell_type": "code",
   "execution_count": 4,
   "metadata": {},
   "outputs": [
    {
     "data": {
      "text/plain": [
       "[<matplotlib.lines.Line2D at 0x2aaadc625240>]"
      ]
     },
     "execution_count": 4,
     "metadata": {},
     "output_type": "execute_result"
    },
    {
     "data": {
      "image/png": "[encoded data removed]",
      "text/plain": [
       "<Figure size 432x288 with 1 Axes>"
      ]
     },
     "metadata": {
      "needs_background": "light"
     },
     "output_type": "display_data"
    }
   ],
   "source": [
    "alm = pickle.load( open(mobj.fklm['cib'][1],\"rb\") )\n",
    "clopt = curvedsky.utils.alm2cl(mobj.lmax,alm)\n",
    "plot(clopt/0.24*1e7)"
   ]
  },
  {
   "cell_type": "code",
   "execution_count": null,
   "metadata": {},
   "outputs": [],
   "source": []
  }
 ],
 "metadata": {
  "kernelspec": {
   "display_name": "py4so",
   "language": "python",
   "name": "py4so"
  },
  "language_info": {
   "codemirror_mode": {
    "name": "ipython",
    "version": 3
   },
   "file_extension": ".py",
   "mimetype": "text/x-python",
   "name": "python",
   "nbconvert_exporter": "python",
   "pygments_lexer": "ipython3",
   "version": "3.7.2"
  }
 },
 "nbformat": 4,
 "nbformat_minor": 4
}
