{
 "cells": [
  {
   "cell_type": "code",
   "execution_count": 1,
   "metadata": {},
   "outputs": [],
   "source": [
    "import tools_multitracer as multi, healpy as hp, prjlib, tools_lens, curvedsky, tools_delens, pickle, test\n",
    "from matplotlib.pyplot import *"
   ]
  },
  {
   "cell_type": "code",
   "execution_count": 2,
   "metadata": {},
   "outputs": [],
   "source": [
    "#alm = test.generate_multitracer_phi(1, spectra_path = '/global/project/projectdirs/sobs/delensing/multitracer_forBBgroup/spectra_of_tracers/')\n",
    "#al, aa = test.generate_multitracer_phi(1, spectra_path = '/global/project/projectdirs/sobs/delensing/multitracer_forBBgroup/spectra_of_tracers/')\n",
    "#cl = hp.sphtfunc.alm2cl(alm)\n",
    "#plot(cl)\n",
    "#for k, n in mobj.klist.items():\n",
    "#    print(k,aa[n,n,8:100])"
   ]
  },
  {
   "cell_type": "code",
   "execution_count": 13,
   "metadata": {},
   "outputs": [
    {
     "name": "stdout",
     "output_type": "stream",
     "text": [
      "{'TT': 0, 'TE': 1, 'EE': 2, 'EB': 3, 'g0': 4, 'g1': 5, 'g2': 6, 'g3': 7, 'g4': 8, 'g5': 9, 'cib': 10}\n"
     ]
    }
   ],
   "source": [
    "add_cmb = ['TT','TE','EE','EB']\n",
    "#add_cmb = ['TT']\n",
    "glob = prjlib.analysis_init(t='la',freq='com',ntype='base_iso_roll50')\n",
    "qobj = tools_lens.init_qobj( glob.stag, glob.doreal, rlmin=300, rlmax=4096 )\n",
    "mobj = multi.mass_tracer( glob, qobj , add_cmb=add_cmb)\n",
    "#alm = pickle.load( open(mobj.fcklm[1],\"rb\") )"
   ]
  },
  {
   "cell_type": "code",
   "execution_count": 14,
   "metadata": {},
   "outputs": [],
   "source": [
    "cl_matrix, clnl_matrix = multi.get_spectra_matrix( mobj )\n",
    "aux_cl, A = multi.calculate_sim_weights( cl_matrix, mobj.lmin, len(mobj.klist_cmb.keys()) )"
   ]
  },
  {
   "cell_type": "code",
   "execution_count": 16,
   "metadata": {},
   "outputs": [],
   "source": [
    "#for k, n in mobj.klist.items():\n",
    "#    print(k,A[n,n-1,100:200])\n",
    "#    print(k,A[n,n-4,100:200])"
   ]
  },
  {
   "cell_type": "code",
   "execution_count": 17,
   "metadata": {},
   "outputs": [
    {
     "ename": "NameError",
     "evalue": "name 'alm' is not defined",
     "output_type": "error",
     "traceback": [
      "\u001b[0;31m---------------------------------------------------------------------------\u001b[0m",
      "\u001b[0;31mNameError\u001b[0m                                 Traceback (most recent call last)",
      "\u001b[0;32m<ipython-input-17-41bcac9792c4>\u001b[0m in \u001b[0;36m<module>\u001b[0;34m\u001b[0m\n\u001b[1;32m      1\u001b[0m \u001b[0mxscale\u001b[0m\u001b[0;34m(\u001b[0m\u001b[0;34m'log'\u001b[0m\u001b[0;34m)\u001b[0m\u001b[0;34m\u001b[0m\u001b[0;34m\u001b[0m\u001b[0m\n\u001b[0;32m----> 2\u001b[0;31m \u001b[0mclopt\u001b[0m \u001b[0;34m=\u001b[0m \u001b[0mcurvedsky\u001b[0m\u001b[0;34m.\u001b[0m\u001b[0mutils\u001b[0m\u001b[0;34m.\u001b[0m\u001b[0malm2cl\u001b[0m\u001b[0;34m(\u001b[0m\u001b[0mmobj\u001b[0m\u001b[0;34m.\u001b[0m\u001b[0mlmax\u001b[0m\u001b[0;34m,\u001b[0m\u001b[0malm\u001b[0m\u001b[0;34m)\u001b[0m\u001b[0;34m\u001b[0m\u001b[0;34m\u001b[0m\u001b[0m\n\u001b[0m\u001b[1;32m      3\u001b[0m \u001b[0mprint\u001b[0m\u001b[0;34m(\u001b[0m\u001b[0mclopt\u001b[0m\u001b[0;34m[\u001b[0m\u001b[0;34m:\u001b[0m\u001b[0;36m100\u001b[0m\u001b[0;34m]\u001b[0m\u001b[0;34m)\u001b[0m\u001b[0;34m\u001b[0m\u001b[0;34m\u001b[0m\u001b[0m\n\u001b[1;32m      4\u001b[0m \u001b[0mplot\u001b[0m\u001b[0;34m(\u001b[0m\u001b[0mclopt\u001b[0m\u001b[0;34m/\u001b[0m\u001b[0;36m0.24\u001b[0m\u001b[0;34m*\u001b[0m\u001b[0;36m1e7\u001b[0m\u001b[0;34m)\u001b[0m\u001b[0;34m\u001b[0m\u001b[0;34m\u001b[0m\u001b[0m\n\u001b[1;32m      5\u001b[0m \u001b[0ma\u001b[0m\u001b[0;34m\u001b[0m\u001b[0;34m\u001b[0m\u001b[0m\n",
      "\u001b[0;31mNameError\u001b[0m: name 'alm' is not defined"
     ]
    },
    {
     "data": {
      "image/png": "[encoded data removed]",
      "text/plain": [
       "<Figure size 432x288 with 1 Axes>"
      ]
     },
     "metadata": {
      "needs_background": "light"
     },
     "output_type": "display_data"
    }
   ],
   "source": [
    "xscale('log')\n",
    "clopt = curvedsky.utils.alm2cl(mobj.lmax,alm)\n",
    "print(clopt[:100])\n",
    "plot(clopt/0.24*1e7)\n",
    "a"
   ]
  },
  {
   "cell_type": "code",
   "execution_count": 18,
   "metadata": {},
   "outputs": [
    {
     "name": "stdout",
     "output_type": "stream",
     "text": [
      "[0.00000000e+00 0.00000000e+00 0.00000000e+00 0.00000000e+00\n",
      " 0.00000000e+00 0.00000000e+00 0.00000000e+00 0.00000000e+00\n",
      " 1.34581641e-06 2.85414878e-06 3.01328100e-06 1.36161776e-06\n",
      " 1.07689326e-06 1.07084521e-06 1.24185656e-06 1.07338977e-06\n",
      " 6.83980081e-07 7.92791039e-07 5.89864342e-07 3.35218911e-07\n",
      " 5.44767832e-07 4.93321555e-07 2.98898286e-07 2.59636693e-07\n",
      " 3.47048353e-07 2.68278538e-07 2.16536498e-07 2.40480763e-07\n",
      " 1.81391763e-07 2.33598142e-07 2.48712841e-07 2.27487332e-07\n",
      " 1.61896526e-07 1.21897057e-07 1.30153081e-07 1.30753471e-07\n",
      " 1.48658451e-07 1.36495793e-07 1.00641333e-07 1.14901607e-07\n",
      " 1.12404527e-07 6.92578518e-08 7.31510129e-08 8.67356904e-08\n",
      " 8.15546114e-08 7.38160277e-08 9.65451934e-08 7.86996351e-08\n",
      " 8.91937099e-08 8.27563065e-08 6.86214372e-08 5.20556796e-08\n",
      " 6.56245875e-08 5.10251865e-08 6.31543849e-08 5.62231243e-08\n",
      " 4.55747979e-08 5.69454219e-08 5.36959020e-08 4.19476709e-08\n",
      " 4.35971907e-08 3.97330875e-08 4.90379358e-08 4.78352489e-08\n",
      " 3.36294448e-08 3.72447931e-08 3.75217938e-08 3.76956932e-08\n",
      " 2.89222014e-08 3.77112133e-08 4.04051033e-08 3.20810233e-08\n",
      " 3.14347462e-08 3.31868296e-08 3.13131594e-08 3.41314041e-08\n",
      " 4.61224952e-08 2.69990806e-08 2.88047272e-08 3.11155673e-08\n",
      " 2.82539780e-08 3.46093109e-08 2.88785072e-08 2.34912026e-08\n",
      " 2.47104136e-08 2.68129925e-08 2.77269113e-08 2.59932585e-08\n",
      " 2.71136958e-08 2.15813812e-08 2.54184874e-08 2.94674580e-08\n",
      " 2.61286151e-08 1.83232865e-08 2.54565954e-08 2.18023415e-08\n",
      " 2.22476536e-08 2.33772528e-08 2.37258904e-08 2.17311625e-08]\n"
     ]
    },
    {
     "data": {
      "text/plain": [
       "[<matplotlib.lines.Line2D at 0x2aaadc75a080>]"
      ]
     },
     "execution_count": 18,
     "metadata": {},
     "output_type": "execute_result"
    },
    {
     "data": {
      "image/png": "[encoded data removed]",
      "text/plain": [
       "<Figure size 432x288 with 1 Axes>"
      ]
     },
     "metadata": {
      "needs_background": "light"
     },
     "output_type": "display_data"
    }
   ],
   "source": [
    "alm = pickle.load( open(mobj.fklm['cib'][1],\"rb\") )\n",
    "clopt = curvedsky.utils.alm2cl(mobj.lmax,alm)\n",
    "print(clopt[:100])\n",
    "plot(clopt/0.24*1e7)"
   ]
  },
  {
   "cell_type": "code",
   "execution_count": null,
   "metadata": {},
   "outputs": [],
   "source": []
  }
 ],
 "metadata": {
  "kernelspec": {
   "display_name": "py4so",
   "language": "python",
   "name": "py4so"
  },
  "language_info": {
   "codemirror_mode": {
    "name": "ipython",
    "version": 3
   },
   "file_extension": ".py",
   "mimetype": "text/x-python",
   "name": "python",
   "nbconvert_exporter": "python",
   "pygments_lexer": "ipython3",
   "version": "3.7.2"
  }
 },
 "nbformat": 4,
 "nbformat_minor": 4
}
