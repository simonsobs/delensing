{
 "cells": [
  {
   "cell_type": "code",
   "execution_count": null,
   "metadata": {},
   "outputs": [],
   "source": [
    "import numpy as np, basic"
   ]
  },
  {
   "cell_type": "code",
   "execution_count": null,
   "metadata": {},
   "outputs": [],
   "source": [
    "# define parameters\n",
    "Dir = '/project/projectdirs/sobs/delensing/'\n",
    "D = Dir+'20190707_test/'\n",
    "Tcmb = 2.726e6    # CMB temperature\n",
    "lmax = 3000       # maximum multipole of output cl\n",
    "dlmin = 2\n",
    "dlmax = 2048 "
   ]
  },
  {
   "cell_type": "code",
   "execution_count": null,
   "metadata": {},
   "outputs": [],
   "source": [
    "# load unlensed and lensed Cls\n",
    "ucl  = basic.aps.read_cambcls(Dir+'cls/ffp10_scalCls.dat',2,lmax,5)/Tcmb**2\n",
    "lcl  = basic.aps.read_cambcls(Dir+'cls/ffp10_lensedCls.dat',2,lmax,4,bb=True)/Tcmb**2"
   ]
  },
  {
   "cell_type": "code",
   "execution_count": null,
   "metadata": {},
   "outputs": [],
   "source": [
    "#EE, BB, pp = np.loadtxt(D+'cmbcls.dat',unpack=True,usecols=(2,3,7))\n",
    "EE = lcl[1,:]\n",
    "BB = lcl[2,:]\n",
    "pp = ucl[4,:]\n",
    "WE = np.ones(dlmax+1)\n",
    "W0 = np.zeros(dlmax+1)\n",
    "W1 = np.zeros(dlmax+1)\n",
    "W2 = np.zeros(dlmax+1)\n",
    "Ag0 = np.loadtxt(D+'al_TT.dat',unpack=True)[1]\n",
    "Ag1 = np.loadtxt(D+'al_EB.dat',unpack=True)[1]\n",
    "Ag2 = np.loadtxt(D+'al_MV.dat',unpack=True)[1]\n",
    "for l in range(dlmin,dlmax+1):\n",
    "    W0[l] = pp[l]/(pp[l]+Ag0[l])\n",
    "    W1[l] = pp[l]/(pp[l]+Ag1[l])\n",
    "    W2[l] = pp[l]/(pp[l]+Ag2[l])"
   ]
  },
  {
   "cell_type": "code",
   "execution_count": null,
   "metadata": {},
   "outputs": [],
   "source": [
    "bb0 = basic.delens.resbb(lmax,dlmin,dlmax,EE[:dlmax+1],pp[:dlmax+1],WE,W0)\n",
    "bb1 = basic.delens.resbb(lmax,dlmin,dlmax,EE[:dlmax+1],pp[:dlmax+1],WE,W1)\n",
    "bb2 = basic.delens.resbb(lmax,dlmin,dlmax,EE[:dlmax+1],pp[:dlmax+1],WE,W2)\n",
    "#np.savetxt(D+'exp.dat',np.array((np.linspace(0,lmax,lmax+1),bb0,bb1,bb2,lcl[1,:],lcl[2,:],ucl[3,:])).T)"
   ]
  }
 ],
 "metadata": {
  "kernelspec": {
   "display_name": "py4so",
   "language": "python",
   "name": "py4so"
  },
  "language_info": {
   "codemirror_mode": {
    "name": "ipython",
    "version": 3
   },
   "file_extension": ".py",
   "mimetype": "text/x-python",
   "name": "python",
   "nbconvert_exporter": "python",
   "pygments_lexer": "ipython3",
   "version": "3.7.2"
  }
 },
 "nbformat": 4,
 "nbformat_minor": 4
}
