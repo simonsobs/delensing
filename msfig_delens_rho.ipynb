{
 "cells": [
  {
   "cell_type": "code",
   "execution_count": 9,
   "metadata": {},
   "outputs": [],
   "source": [
    "import numpy as np, prjlib, plottools as pl, healpy as hp, curvedsky, tools_lens, tools_delens, tools_multitracer, binning\n",
    "from matplotlib.pyplot import *"
   ]
  },
  {
   "cell_type": "code",
   "execution_count": 10,
   "metadata": {},
   "outputs": [],
   "source": [
    "snmin, snmax = 1, 100\n",
    "olmax = 1024\n",
    "ntypes = ['base','base_iso','base_la','goal','goal_iso','goal_la']\n",
    "labels = ['Baseline','','','Goal','','']\n",
    "colors = ['m','m','m','b','b','b']\n",
    "lines  = ['-','--','-.','-','--','-.']"
   ]
  },
  {
   "cell_type": "code",
   "execution_count": 11,
   "metadata": {},
   "outputs": [],
   "source": [
    "d = prjlib.data_directory()\n",
    "dobj = {}\n",
    "for ntype in ntypes:\n",
    "    Ntype = ntype.replace('_la','')+'_roll50'\n",
    "    p = prjlib.analysis_init(t='la',freq='com',fltr='none',snmin=snmin,snmax=snmax,ntype=Ntype)\n",
    "    if '_la' in ntype:\n",
    "        pE = prjlib.analysis_init(t='la',freq='com',fltr='cinv',ntype=Ntype)\n",
    "    else:\n",
    "        pE = prjlib.analysis_init(t='co',freq='com',fltr='cinv',ntype=Ntype.replace('_iso',''))\n",
    "    qobj = tools_lens.init_qobj(p.stag,'False',rlmin=300,rlmax=4096)\n",
    "    mobj = tools_multitracer.mass_tracer(p,qobj)\n",
    "    dobj[ntype,'all'] = tools_delens.init_template(p.stag+qobj.ltag,mobj.klist,pE.stag,False,klist=['comb'],kfltr='none',elmin=50)"
   ]
  },
  {
   "cell_type": "code",
   "execution_count": 12,
   "metadata": {},
   "outputs": [
    {
     "name": "stderr",
     "output_type": "stream",
     "text": [
      "/global/homes/t/toshiyan/.conda/envs/loc/lib/python3.7/site-packages/ipykernel_launcher.py:6: RuntimeWarning: invalid value encountered in true_divide\n",
      "  \n"
     ]
    }
   ],
   "source": [
    "r = {}\n",
    "for ntype in ntypes:\n",
    "    r[ntype] = 0\n",
    "    for i in range(snmin,snmax+1):\n",
    "        BB, TT, BT = np.loadtxt(dobj[ntype,'all'].cl['comb'][i],unpack=True)\n",
    "        r[ntype] += BT**2/BB/TT/(snmax-snmin+1)"
   ]
  },
  {
   "cell_type": "code",
   "execution_count": 13,
   "metadata": {},
   "outputs": [],
   "source": [
    "rb = {}\n",
    "mb = binning.multipole_binning(20,lmin=5,lmax=200)\n",
    "for ntype in ntypes:\n",
    "    rb[ntype] = binning.binning(r[ntype],mb)"
   ]
  },
  {
   "cell_type": "code",
   "execution_count": null,
   "metadata": {},
   "outputs": [],
   "source": [
    "pl.plot_1dstyle(usetex=True,fsize=[8,6],xmin=15,xmax=185,ymin=1-.75,ymax=1-.45,xticks_labsize=12,yticks_labsize=12,legend_size=12,xlab=r'$\\ell$',ylab=r'Residual BB spectrum ($1-(\\rho_L^{\\rm LT,B})^2$)')\n",
    "for ntype, label, color, ls in zip(ntypes,labels,colors,lines):\n",
    "    plot(mb.bc,1-rb[ntype],label=label,color=color,ls=ls)\n",
    "legend(loc=0)\n",
    "figtext(0.4,0.75,'Solid: Realistic Lensing Template',fontsize=13)\n",
    "figtext(0.4,0.70,'Dashed: Ideal Lensing Template',fontsize=13)\n",
    "figtext(0.4,0.65,'Dot-dashed: Using only LAT E-mode',fontsize=13)\n",
    "savefig('fig_BB_correlation.pdf')"
   ]
  },
  {
   "cell_type": "code",
   "execution_count": null,
   "metadata": {},
   "outputs": [],
   "source": []
  }
 ],
 "metadata": {
  "kernelspec": {
   "display_name": "py4so",
   "language": "python",
   "name": "py4so"
  },
  "language_info": {
   "codemirror_mode": {
    "name": "ipython",
    "version": 3
   },
   "file_extension": ".py",
   "mimetype": "text/x-python",
   "name": "python",
   "nbconvert_exporter": "python",
   "pygments_lexer": "ipython3",
   "version": "3.7.2"
  }
 },
 "nbformat": 4,
 "nbformat_minor": 4
}
