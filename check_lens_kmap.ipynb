{
 "cells": [
  {
   "cell_type": "code",
   "execution_count": 1,
   "metadata": {},
   "outputs": [],
   "source": [
    "import numpy as np, prjlib, plottools as pl, healpy as hp, pickle, curvedsky, delens_tools, misctools, lens_tools\n",
    "# some handy functions to use along widgets\n",
    "from IPython.display import display, Markdown, clear_output\n",
    "# widget packages\n",
    "import ipywidgets as widgets\n",
    "%matplotlib inline\n",
    "from matplotlib.pyplot import *"
   ]
  },
  {
   "cell_type": "code",
   "execution_count": 2,
   "metadata": {},
   "outputs": [],
   "source": [
    "def viewmaps(klms,nside=128,lmax=256,min=-0.1,max=0.1,M=1.):\n",
    "\n",
    "    qlist = list(klms.keys())\n",
    "    print(qlist)\n",
    "    \n",
    "    N = len(qlist)\n",
    "    out = []\n",
    "    for n in range(N):\n",
    "        out.append(widgets.Output())\n",
    "\n",
    "    tab = widgets.Tab(children = out)\n",
    "    for n in range(N):\n",
    "        tab.set_title(n,qlist[n])\n",
    "\n",
    "    display(tab)\n",
    "\n",
    "    fig, ax = {}, {}\n",
    "    for qi, q in enumerate(qlist):\n",
    "        kap = M * curvedsky.utils.hp_alm2map(12*nside**2,lmax,lmax,klms[q][:lmax+1,:lmax+1])\n",
    "\n",
    "        with out[qi]:\n",
    "            fig[q], ax[q] = subplots(figsize=[10,7])\n",
    "            sca(ax[q])\n",
    "            hp.mollview(kap,min=min,max=max,hold=True)\n",
    "            show(fig[q])"
   ]
  },
  {
   "cell_type": "code",
   "execution_count": 3,
   "metadata": {},
   "outputs": [],
   "source": [
    "p, f, r = prjlib.analysis_init(t='la',freq='coadd',snmin=1,snmax=50,rlmin=500,rlmax=3000,qlist=['TT','TE','EE','EB'])\n",
    "P, __, __ = prjlib.analysis_init(t='la',freq='coadd',snmin=1,snmax=50,rlmin=500,rlmax=3000,qlist=['TT','TE','EE','EB'],exttag='_wdiag')\n",
    "i = 1\n",
    "nside = 128"
   ]
  },
  {
   "cell_type": "code",
   "execution_count": 4,
   "metadata": {},
   "outputs": [
    {
     "name": "stdout",
     "output_type": "stream",
     "text": [
      "NSIDE = 2048\n",
      "ORDERING = RING in fits file\n",
      "INDXSCHM = IMPLICIT\n",
      "fsky and normalization corrections: [0.5752538  0.14110665 0.04651988 0.01847941 0.008786  ]\n"
     ]
    }
   ],
   "source": [
    "W, M, wn = prjlib.window('la',p.nside)\n",
    "M = hp.ud_grade(M,nside)\n",
    "wn = prjlib.wfac('la')"
   ]
  },
  {
   "cell_type": "code",
   "execution_count": 5,
   "metadata": {},
   "outputs": [],
   "source": [
    "ikalm = prjlib.load_input_plm(f.palm[i],p.dlmax,ktype='k')\n",
    "ikwlm = prjlib.multiplywindow(W**2,p.npix,p.nside,p.dlmax,ikalm)"
   ]
  },
  {
   "cell_type": "code",
   "execution_count": 6,
   "metadata": {},
   "outputs": [],
   "source": [
    "wlk = lens_tools.diag_wiener(p.quad.f,r.kk,p.dlmin,p.dlmax,qlist=p.quad.qlist)\n",
    "rkalm = lens_tools.prep_klms(p.quad.f,i,p.dlmax,wn=wn,remove_mean=True,qlist=p.quad.qlist)\n",
    "rkwlm = {}\n",
    "for q in ['TT','TE','EE','EB']:\n",
    "    rkwlm[q] = rkalm[q]*wlk[q][:,None]"
   ]
  },
  {
   "cell_type": "code",
   "execution_count": 7,
   "metadata": {},
   "outputs": [],
   "source": [
    "wlK = lens_tools.diag_wiener(P.quad.f,r.kk,P.dlmin,P.dlmax,qlist=P.quad.qlist)\n",
    "rKalm = lens_tools.prep_klms(P.quad.f,i,P.dlmax,wn=wn,remove_mean=True,qlist=P.quad.qlist)\n",
    "rKwlm = {}\n",
    "for q in ['TT','TE','EE','EB']:\n",
    "    rKwlm[q] = rKalm[q]*wlK[q][:,None]"
   ]
  },
  {
   "cell_type": "code",
   "execution_count": 8,
   "metadata": {},
   "outputs": [],
   "source": [
    "wkwlm = pickle.load(open(p.quad.f['TT'].walm[i],\"rb\"))[0]"
   ]
  },
  {
   "cell_type": "code",
   "execution_count": 9,
   "metadata": {},
   "outputs": [
    {
     "name": "stdout",
     "output_type": "stream",
     "text": [
      "['IN', 'INw', 'TT', 'TE', 'EE', 'EB', 'TTw']\n"
     ]
    },
    {
     "data": {
      "application/vnd.jupyter.widget-view+json": {
       "model_id": "be9c45df62634b8699f91756f4dc17fe",
       "version_major": 2,
       "version_minor": 0
      },
      "text/plain": [
       "Tab(children=(Output(), Output(), Output(), Output(), Output(), Output(), Output()), _titles={'0': 'IN', '1': …"
      ]
     },
     "metadata": {},
     "output_type": "display_data"
    }
   ],
   "source": [
    "klms = {}\n",
    "klms['IN'] = ikalm\n",
    "klms['INw'] = ikwlm/wn[2]\n",
    "klms['TT'] = rkwlm['TT']/wn[2]\n",
    "klms['TE'] = rkwlm['TE']/wn[1]\n",
    "klms['EE'] = rkwlm['EE']/wn[0]\n",
    "klms['EB'] = rkwlm['EB']/wn[0]\n",
    "klms['TTw'] = wkwlm*100.\n",
    "viewmaps(klms,M=M)"
   ]
  },
  {
   "cell_type": "code",
   "execution_count": 11,
   "metadata": {},
   "outputs": [
    {
     "data": {
      "text/plain": [
       "<matplotlib.legend.Legend at 0x2aaadc8f9f60>"
      ]
     },
     "execution_count": 11,
     "metadata": {},
     "output_type": "execute_result"
    },
    {
     "data": {
      "image/png": "[encoded data removed]",
      "text/plain": [
       "<Figure size 432x288 with 1 Axes>"
      ]
     },
     "metadata": {
      "needs_background": "light"
     },
     "output_type": "display_data"
    }
   ],
   "source": [
    "#cl0 = curvedsky.utils.alm2cl(2048,cklm)\n",
    "lmax = 2048\n",
    "qklm = pickle.load(open(p.quad.f['TT'].alm[i],\"rb\"))[0]\n",
    "mklm = pickle.load(open(p.quad.f['TT'].mf,\"rb\"))[0]\n",
    "cklm = qklm - mklm\n",
    "cl0 = curvedsky.utils.alm2cl(lmax,cklm[:lmax+1,:lmax+1])/wn[4]\n",
    "cl1 = curvedsky.utils.alm2cl(lmax,mklm[:lmax+1,:lmax+1])/wn[4]\n",
    "cl2 = curvedsky.utils.alm2cl(lmax,wkwlm[:lmax+1,:lmax+1])*100**2\n",
    "n0 = np.loadtxt(p.quad.f['TT'].n0bs,unpack=True)[1,:lmax+1]\n",
    "xlim(2,100)\n",
    "plot(cl0,label='ckk')\n",
    "plot(cl1,label='mean-field')\n",
    "plot(cl2,label='wiener ckk')\n",
    "plot(n0,label='N0')\n",
    "yscale('log')\n",
    "legend()"
   ]
  },
  {
   "cell_type": "code",
   "execution_count": null,
   "metadata": {},
   "outputs": [],
   "source": []
  }
 ],
 "metadata": {
  "kernelspec": {
   "display_name": "Python 3",
   "language": "python",
   "name": "python3"
  },
  "language_info": {
   "codemirror_mode": {
    "name": "ipython",
    "version": 3
   },
   "file_extension": ".py",
   "mimetype": "text/x-python",
   "name": "python",
   "nbconvert_exporter": "python",
   "pygments_lexer": "ipython3",
   "version": "3.7.2"
  }
 },
 "nbformat": 4,
 "nbformat_minor": 4
}
